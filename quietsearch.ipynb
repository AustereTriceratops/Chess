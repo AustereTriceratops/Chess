{
 "cells": [
  {
   "cell_type": "code",
   "execution_count": null,
   "metadata": {},
   "outputs": [],
   "source": [
    "'''\n",
    "PSEUDOCOD BRAINSTORMINGE\n",
    "\n",
    "def search(position, depth):\n",
    "    hash_table = TranspositionTable(table_size)\n",
    "    max_qdepth = 10\n",
    "    \n",
    "    setup_root_node() # move ordering, hash initialization, etc.   \n",
    "    \n",
    "    if leaf_node (depth == 0):\n",
    "        quietsearch(leaf_node, max_qdepth)\n",
    "            \n",
    "    else:\n",
    "        children = position.gen_children()\n",
    "        \n",
    "        for child in children:\n",
    "            score = search(position, depth-1, alpha, beta)\n",
    "        \n",
    "\n",
    "\n",
    "def quietsearch(position, depth):\n",
    "    if position has capture_moves:\n",
    "        for move in capture_moves:\n",
    "            score = quietsearch(move, depth-1)\n",
    "        return score\n",
    "    else:\n",
    "        return heuristic_score\n",
    "'''"
   ]
  }
 ],
 "metadata": {
  "kernelspec": {
   "display_name": "Python 3",
   "language": "python",
   "name": "python3"
  },
  "language_info": {
   "codemirror_mode": {
    "name": "ipython",
    "version": 3
   },
   "file_extension": ".py",
   "mimetype": "text/x-python",
   "name": "python",
   "nbconvert_exporter": "python",
   "pygments_lexer": "ipython3",
   "version": "3.7.6"
  }
 },
 "nbformat": 4,
 "nbformat_minor": 4
}
