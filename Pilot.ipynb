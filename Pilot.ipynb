{
 "cells": [
  {
   "cell_type": "code",
   "execution_count": 104,
   "metadata": {},
   "outputs": [],
   "source": [
    "#ids = {\"0\": 0, \"p\": 1, \"r\": 2, \"k\": 3, \"b\": 4, \"Q\": 5, \"K\": 6}\n",
    "\n",
    "class gameState:\n",
    "    def __init__(self):\n",
    "        self.grid = [[cell(index=(j, i)) for i in range(8)] for j in range(8)]\n",
    "        self.active_pieces = []\n",
    "        \n",
    "    def add_piece(self, index, alignment=None, name=None): # add a piece to the grid by changing state of a cell\n",
    "        piece = self.grid[index[0]][index[1]]\n",
    "        piece.alignment = alignment\n",
    "        piece.id = name\n",
    "        self.active_pieces.append(piece)\n",
    "        \n",
    "    def in_check(self, alignment):\n",
    "        king_location = None\n",
    "        enemy_pieces = []\n",
    "        \n",
    "        #singles out this side's king and other side's pieces\n",
    "        for piece in self.active_pieces:\n",
    "            if piece.alignment == alignment and piece.id == \"K\":\n",
    "                king_location = piece.index\n",
    "            elif piece.alignment != alignment:\n",
    "                enemy_pieces.append(piece)\n",
    "        assert king_location, \"You don't have a king\"\n",
    "        \n",
    "        # see if the king's location is a legal move in enemy pieces\n",
    "        \n",
    "    def _moves_in_direction(self, cell, direction):\n",
    "        x = cell.index[0]\n",
    "        y = cell.index[1]\n",
    "        \n",
    "        d_x = direction[0]\n",
    "        d_y = direction[1]\n",
    "        \n",
    "        _moves = []\n",
    "        for j in [-1, 1]:\n",
    "            for i in range(1, 8):\n",
    "                x_ = x + j * i * d_x\n",
    "                y_ = y + j * i * d_y\n",
    "                if 0 <= y_ < 8 and 0 <= x_ < 8:\n",
    "                    loc = self.grid[x_][y_]\n",
    "                    if loc.id == \"0\":\n",
    "                        _moves.append(loc.index)\n",
    "                    elif loc.alignment == cell.alignment:\n",
    "                        break\n",
    "                    elif loc.alignment != cell.alignment:\n",
    "                        _moves.append(loc.index)\n",
    "                        break\n",
    "        return _moves\n",
    "    \n",
    "    def legal_moves(self, index):\n",
    "        x = index[0]\n",
    "        y = index[1]\n",
    "        cell = self.grid[x][y]\n",
    "        legal_moves = []\n",
    "        \n",
    "        #empty cells have no moves\n",
    "        if cell.id == \"0\":\n",
    "            return legal_moves\n",
    "        elif cell.id == \"r\":\n",
    "            vertical_moves = self._moves_in_direction(cell, [0,1])\n",
    "            legal_moves.extend(vertical_moves)\n",
    "            horizontal_moves = self._moves_in_direction(cell, [1,0])\n",
    "            legal_moves.extend(horizontal_moves)\n",
    "                \n",
    "        return legal_moves\n",
    "\n",
    "\n",
    "class cell:\n",
    "    def __init__(self, index=None):\n",
    "        self.id = \"0\"\n",
    "        self.alignment = None\n",
    "        self.index = index\n",
    "\n",
    "    def __repr__(self):\n",
    "        return self.__str__()\n",
    "\n",
    "    def __str__(self):\n",
    "        return self.id\n"
   ]
  },
  {
   "cell_type": "code",
   "execution_count": 105,
   "metadata": {},
   "outputs": [
    {
     "name": "stdout",
     "output_type": "stream",
     "text": [
      "[[0, 0, 0, 0, 0, 0, 0, 0], [0, 0, K, 0, 0, 0, 0, 0], [0, 0, p, 0, 0, 0, 0, 0], [0, 0, 0, r, b, 0, 0, 0], [0, 0, 0, 0, 0, 0, 0, 0], [k, 0, 0, 0, 0, 0, 0, 0], [0, 0, K, 0, 0, 0, 0, 0], [0, 0, 0, 0, 0, 0, 0, 0]]\n"
     ]
    }
   ],
   "source": [
    "g = gameState()\n",
    "g.add_piece((1,2), name=\"K\", alignment=\"black\")\n",
    "g.add_piece((2,2), name=\"p\", alignment=\"black\")\n",
    "g.add_piece((5,0), name=\"k\", alignment=\"black\")\n",
    "g.add_piece((3,4), name=\"b\", alignment=\"white\")\n",
    "g.add_piece((3,3), name=\"r\", alignment=\"white\")\n",
    "g.add_piece((6,2), name=\"K\", alignment=\"white\")\n",
    "\n",
    "print(g.grid)"
   ]
  },
  {
   "cell_type": "code",
   "execution_count": 68,
   "metadata": {},
   "outputs": [],
   "source": [
    "g.in_check(\"white\")"
   ]
  },
  {
   "cell_type": "code",
   "execution_count": 106,
   "metadata": {},
   "outputs": [
    {
     "data": {
      "text/plain": [
       "[(3, 2),\n",
       " (3, 1),\n",
       " (3, 0),\n",
       " (2, 3),\n",
       " (1, 3),\n",
       " (0, 3),\n",
       " (4, 3),\n",
       " (5, 3),\n",
       " (6, 3),\n",
       " (7, 3)]"
      ]
     },
     "execution_count": 106,
     "metadata": {},
     "output_type": "execute_result"
    }
   ],
   "source": [
    "g.legal_moves((3,3))"
   ]
  },
  {
   "cell_type": "code",
   "execution_count": null,
   "metadata": {},
   "outputs": [],
   "source": []
  }
 ],
 "metadata": {
  "kernelspec": {
   "display_name": "Python 3",
   "language": "python",
   "name": "python3"
  },
  "language_info": {
   "codemirror_mode": {
    "name": "ipython",
    "version": 3
   },
   "file_extension": ".py",
   "mimetype": "text/x-python",
   "name": "python",
   "nbconvert_exporter": "python",
   "pygments_lexer": "ipython3",
   "version": "3.6.8"
  }
 },
 "nbformat": 4,
 "nbformat_minor": 2
}
