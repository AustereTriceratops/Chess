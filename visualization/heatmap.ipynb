{
 "cells": [
  {
   "cell_type": "code",
   "execution_count": 1,
   "metadata": {},
   "outputs": [],
   "source": [
    "import chess\n",
    "import chess.pgn\n",
    "import chess.svg\n",
    "\n",
    "import matplotlib.pyplot as plt\n",
    "import matplotlib.animation as animation\n",
    "import seaborn as sns\n",
    "import numpy as np"
   ]
  },
  {
   "cell_type": "code",
   "execution_count": 2,
   "metadata": {},
   "outputs": [],
   "source": [
    "def heatmap_from_board(board):\n",
    "    control_map = [0 for _ in range(64)]\n",
    "\n",
    "    for sq in range(63):\n",
    "        white_attacks = len(list(board.attackers(True, sq)))\n",
    "        black_attacks = len(list(board.attackers(False, sq)))\n",
    "        control_map[sq] = white_attacks - black_attacks\n",
    "        \n",
    "    heatmap = np.flip(np.array(control_map).reshape((8,8)), axis=0)\n",
    "    return heatmap"
   ]
  },
  {
   "cell_type": "code",
   "execution_count": 3,
   "metadata": {},
   "outputs": [],
   "source": [
    "def heatmap_from_game(pgn_filepath):\n",
    "    game_heatmap = []\n",
    "    board_history = []\n",
    "\n",
    "    with open(pgn_filepath) as pgn:\n",
    "        game = chess.pgn.read_game(pgn)\n",
    "\n",
    "        b = game.board()\n",
    "        h = heatmap_from_board(b)\n",
    "        \n",
    "        game_heatmap.append(h)\n",
    "        board_history.append(b.copy())\n",
    "\n",
    "        for move in game.mainline_moves():\n",
    "            b.push(move)\n",
    "            h = heatmap_from_board(b)\n",
    "            \n",
    "            game_heatmap.append(h)\n",
    "            board_history.append(b.copy())\n",
    "            \n",
    "    return game_heatmap, board_history"
   ]
  },
  {
   "cell_type": "code",
   "execution_count": 4,
   "metadata": {},
   "outputs": [],
   "source": [
    "cmap = sns.diverging_palette(160, 300, as_cmap=True)"
   ]
  },
  {
   "cell_type": "code",
   "execution_count": 5,
   "metadata": {},
   "outputs": [],
   "source": [
    "heatmaps, boards = heatmap_from_game(\"Morphy_vs_Domingues_1864.pgn\")"
   ]
  },
  {
   "cell_type": "code",
   "execution_count": 9,
   "metadata": {},
   "outputs": [],
   "source": [
    "def animate_frame(_min, _max, game_history):\n",
    "    def func(i):\n",
    "        frame = plt.imshow(\n",
    "            game_history[i], cmap=cmap, vmin=_min, vmax=_max)\n",
    "        return frame\n",
    "    return func\n",
    "        \n",
    "def animate_history(heatmaps, path, title=\"\"):\n",
    "    _max = np.max(heatmaps)\n",
    "    _min = np.min(heatmaps)\n",
    "        \n",
    "    Writer = animation.writers[\"ffmpeg\"]\n",
    "    writer = Writer(fps=1.67, bitrate=1200)\n",
    "        \n",
    "    fig = plt.figure(figsize=(6,6))\n",
    "    plt.title(title)\n",
    "    plt.xticks([])\n",
    "    plt.yticks([])\n",
    "        \n",
    "    ani = animation.FuncAnimation(fig, animate_frame(_min, _max, heatmaps), frames=len(heatmaps))\n",
    "    ani.save(path, writer=writer)"
   ]
  },
  {
   "cell_type": "code",
   "execution_count": 10,
   "metadata": {},
   "outputs": [
    {
     "data": {
      "image/png": "[encoded data removed]",
      "text/plain": [
       "<Figure size 432x432 with 1 Axes>"
      ]
     },
     "metadata": {},
     "output_type": "display_data"
    }
   ],
   "source": [
    "animate_history(heatmaps, \"Morphy_vs_Domingues_1864.mp4\")"
   ]
  },
  {
   "cell_type": "code",
   "execution_count": 40,
   "metadata": {},
   "outputs": [],
   "source": [
    "# ===== OPENINGS =====\n",
    "\n",
    "files = [\"a\", \"b\", \"c\", \"d\", \"e\", \"f\", \"g\", \"h\"]\n",
    "\n",
    "ruy_lopez = [\"e4\", \"e5\", \"Nf3\", \"Nc6\", \"Bb5\"]\n",
    "scotch = [\"e4\", \"e5\", \"Nf3\", \"Nc6\", \"d4\"]\n",
    "closed_sicilian = [\"e4\", \"c5\", \"Nc3\", \"Nc6\"]\n",
    "nimzo_indian = [\"d4\", \"Nf6\", \"c4\", \"e6\", \"Nc3\", \"Bb4\"]\n",
    "london = [\"d4\", \"d5\", \"Nf3\", \"Nf6\", \"Bf4\"]\n",
    "four_knights = [\"e4\", \"e5\", \"Nf3\", \"Nc6\", \"Nc3\", \"Nf6\"]\n",
    "italian = [\"e4\", \"e5\", \"Nf3\", \"Nc6\", \"Bc4\"]\n",
    "english_open = [\"c4\", \"c5\"]"
   ]
  },
  {
   "cell_type": "code",
   "execution_count": 8,
   "metadata": {},
   "outputs": [],
   "source": [
    "def load_opening(opening):\n",
    "    b = chess.Board()\n",
    "    \n",
    "    for move in opening:\n",
    "        b.push_san(move)\n",
    "        \n",
    "    return b"
   ]
  },
  {
   "cell_type": "code",
   "execution_count": 42,
   "metadata": {},
   "outputs": [
    {
     "data": {
      "image/png": "[encoded data removed]",
      "text/plain": [
       "<Figure size 576x576 with 1 Axes>"
      ]
     },
     "metadata": {},
     "output_type": "display_data"
    }
   ],
   "source": [
    "hm = heatmap_from_board(load_opening(english_open))\n",
    "\n",
    "fig, ax = plt.subplots(1,1, figsize=(8,8))\n",
    "ax.set_title(\"Symmetric English opening\")\n",
    "sns.heatmap(hm, cmap=cmap, center=0, xticklabels=files, yticklabels=(range(8,0,-1)), cbar=False, ax=ax)\n",
    "\n",
    "plt.savefig(\"Symmetric English opening.png\")"
   ]
  },
  {
   "cell_type": "code",
   "execution_count": null,
   "metadata": {},
   "outputs": [],
   "source": []
  }
 ],
 "metadata": {
  "kernelspec": {
   "display_name": "Python 3",
   "language": "python",
   "name": "python3"
  },
  "language_info": {
   "codemirror_mode": {
    "name": "ipython",
    "version": 3
   },
   "file_extension": ".py",
   "mimetype": "text/x-python",
   "name": "python",
   "nbconvert_exporter": "python",
   "pygments_lexer": "ipython3",
   "version": "3.7.6"
  }
 },
 "nbformat": 4,
 "nbformat_minor": 4
}
