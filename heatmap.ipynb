{
 "cells": [
  {
   "cell_type": "code",
   "execution_count": 5,
   "metadata": {},
   "outputs": [],
   "source": [
    "import chess\n",
    "import chess.pgn\n",
    "import chess.svg\n",
    "\n",
    "import matplotlib.pyplot as plt\n",
    "import matplotlib.animation as animation\n",
    "import seaborn as sns\n",
    "import numpy as np"
   ]
  },
  {
   "cell_type": "code",
   "execution_count": 2,
   "metadata": {},
   "outputs": [],
   "source": [
    "def heatmap_from_board(board):\n",
    "    control_map = [0 for _ in range(64)]\n",
    "\n",
    "    for sq in range(63):\n",
    "        white_attacks = len(list(board.attackers(True, sq)))\n",
    "        black_attacks = len(list(board.attackers(False, sq)))\n",
    "        control_map[sq] = white_attacks - black_attacks\n",
    "        \n",
    "    heatmap = np.flip(np.array(control_map).reshape((8,8)), axis=0)\n",
    "    return heatmap"
   ]
  },
  {
   "cell_type": "code",
   "execution_count": 3,
   "metadata": {},
   "outputs": [],
   "source": [
    "def heatmap_from_game(pgn_filepath):\n",
    "    game_heatmap = []\n",
    "    board_history = []\n",
    "\n",
    "    with open(pgn_filepath) as pgn:\n",
    "        game = chess.pgn.read_game(pgn)\n",
    "\n",
    "        b = game.board()\n",
    "        h = heatmap_from_board(b)\n",
    "        \n",
    "        game_heatmap.append(h)\n",
    "        board_history.append(b.copy())\n",
    "\n",
    "        for move in game.mainline_moves():\n",
    "            b.push(move)\n",
    "            h = heatmap_from_board(b)\n",
    "            \n",
    "            game_heatmap.append(h)\n",
    "            board_history.append(b.copy())\n",
    "            \n",
    "    return game_heatmap, board_history"
   ]
  },
  {
   "cell_type": "code",
   "execution_count": 4,
   "metadata": {},
   "outputs": [],
   "source": [
    "cmap = sns.diverging_palette(160, 300, as_cmap=True)"
   ]
  },
  {
   "cell_type": "code",
   "execution_count": 52,
   "metadata": {},
   "outputs": [],
   "source": [
    "heatmaps, boards = heatmap_from_game(\"testgame.pgn\")"
   ]
  },
  {
   "cell_type": "code",
   "execution_count": 55,
   "metadata": {},
   "outputs": [],
   "source": [
    "def animate_frame(_min, _max, game_history):\n",
    "    def func(i):\n",
    "        frame = plt.imshow(\n",
    "            game_history[i], cmap=cmap, vmin=_min, vmax=_max)\n",
    "        return frame\n",
    "    return func\n",
    "        \n",
    "def animate_history(heatmaps, path, title=\"\"):\n",
    "    _max = np.max(heatmaps)\n",
    "    _min = np.min(heatmaps)\n",
    "        \n",
    "    Writer = animation.writers[\"ffmpeg\"]\n",
    "    writer = Writer(fps=1.2, bitrate=1200)\n",
    "        \n",
    "    fig = plt.figure(figsize=(10,6))\n",
    "    plt.title(title)\n",
    "    plt.xticks([])\n",
    "    plt.yticks([])\n",
    "        \n",
    "    ani = animation.FuncAnimation(fig, animate_frame(_min, _max, heatmaps), frames=len(heatmaps))\n",
    "    ani.save(path, writer=writer)"
   ]
  },
  {
   "cell_type": "code",
   "execution_count": 56,
   "metadata": {},
   "outputs": [
    {
     "data": {
      "image/png": "[encoded data removed]",
      "text/plain": [
       "<Figure size 720x432 with 1 Axes>"
      ]
     },
     "metadata": {},
     "output_type": "display_data"
    }
   ],
   "source": [
    "animate_history(heatmaps, \"testgame.mp4\")"
   ]
  },
  {
   "cell_type": "code",
   "execution_count": null,
   "metadata": {},
   "outputs": [],
   "source": []
  }
 ],
 "metadata": {
  "kernelspec": {
   "display_name": "Python 3",
   "language": "python",
   "name": "python3"
  },
  "language_info": {
   "codemirror_mode": {
    "name": "ipython",
    "version": 3
   },
   "file_extension": ".py",
   "mimetype": "text/x-python",
   "name": "python",
   "nbconvert_exporter": "python",
   "pygments_lexer": "ipython3",
   "version": "3.7.6"
  }
 },
 "nbformat": 4,
 "nbformat_minor": 4
}
