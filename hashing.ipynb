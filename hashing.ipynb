{
 "cells": [
  {
   "cell_type": "code",
   "execution_count": 10,
   "metadata": {},
   "outputs": [],
   "source": [
    "import chess\n",
    "import random as r"
   ]
  },
  {
   "cell_type": "code",
   "execution_count": 27,
   "metadata": {},
   "outputs": [],
   "source": [
    "zobrist_keys = [[r.randint(1, 2**64 - 1) for _ in range(12)] for _ in range(64)]"
   ]
  },
  {
   "cell_type": "code",
   "execution_count": 42,
   "metadata": {},
   "outputs": [],
   "source": [
    "def hash_board(board):\n",
    "    key = 0\n",
    "\n",
    "    for i in range(64):\n",
    "        if board.color_at(i) is not None:\n",
    "            ind = board.piece_type_at(i) + 6 * board.color_at(i) - 1  #abuse of type coercion\n",
    "            key ^= zobrist_keys[i][ind]\n",
    "            \n",
    "    return key"
   ]
  },
  {
   "cell_type": "code",
   "execution_count": 52,
   "metadata": {},
   "outputs": [],
   "source": [
    "def rehash(h_0, board, move):  # pre-move board, chess.Move\n",
    "    newhash = h_0\n",
    "    from_sq = move.from_square\n",
    "    to_sq = move.to_square\n",
    "    ind = board.piece_type_at(from_sq) + 6 * board.color_at(from_sq) - 1\n",
    "    \n",
    "    newhash ^= zobrist_keys[from_sq][ind]\n",
    "    newhash ^= zobrist_keys[to_sq][ind]\n",
    "    return newhash"
   ]
  },
  {
   "cell_type": "code",
   "execution_count": 53,
   "metadata": {},
   "outputs": [
    {
     "data": {
      "text/plain": [
       "8729752418278236885"
      ]
     },
     "execution_count": 53,
     "metadata": {},
     "output_type": "execute_result"
    }
   ],
   "source": [
    "board = chess.Board()\n",
    "h_0 = hash_board(board)\n",
    "h_0"
   ]
  },
  {
   "cell_type": "code",
   "execution_count": 55,
   "metadata": {},
   "outputs": [
    {
     "name": "stdout",
     "output_type": "stream",
     "text": [
      "4170955875828493705 4170955875828493705\n"
     ]
    }
   ],
   "source": [
    "c5 = chess.Move(chess.C7, chess.C5)\n",
    "\n",
    "l_n = rehash(l_n, board, c5) # rehash is more efficient\n",
    "board.push(c5)\n",
    "l_0 = hash_board(board)  # than hashing from scratch every time\n",
    "\n",
    "print(l_0, l_n)"
   ]
  },
  {
   "cell_type": "code",
   "execution_count": 38,
   "metadata": {},
   "outputs": [
    {
     "data": {
      "text/plain": [
       "12"
      ]
     },
     "execution_count": 38,
     "metadata": {},
     "output_type": "execute_result"
    }
   ],
   "source": [
    "chess.E2"
   ]
  },
  {
   "cell_type": "code",
   "execution_count": 39,
   "metadata": {},
   "outputs": [
    {
     "data": {
      "text/plain": [
       "8729752418278236885"
      ]
     },
     "execution_count": 39,
     "metadata": {},
     "output_type": "execute_result"
    }
   ],
   "source": [
    "l ^ zobrist_keys[12][6] ^ zobrist_keys[28][6]"
   ]
  },
  {
   "cell_type": "code",
   "execution_count": 56,
   "metadata": {},
   "outputs": [
    {
     "data": {
      "text/plain": [
       "{6881: 'bad legs'}"
      ]
     },
     "execution_count": 56,
     "metadata": {},
     "output_type": "execute_result"
    }
   ],
   "source": [
    "table_concepts = {}\n",
    "\n",
    "table_concepts[6881] = \"bad legs\"\n",
    "\n",
    "table_concepts"
   ]
  },
  {
   "cell_type": "code",
   "execution_count": 67,
   "metadata": {},
   "outputs": [
    {
     "data": {
      "text/plain": [
       "True"
      ]
     },
     "execution_count": 67,
     "metadata": {},
     "output_type": "execute_result"
    }
   ],
   "source": [
    "bool(6881 in table_concepts)"
   ]
  },
  {
   "cell_type": "code",
   "execution_count": null,
   "metadata": {},
   "outputs": [],
   "source": []
  }
 ],
 "metadata": {
  "kernelspec": {
   "display_name": "Python 3",
   "language": "python",
   "name": "python3"
  },
  "language_info": {
   "codemirror_mode": {
    "name": "ipython",
    "version": 3
   },
   "file_extension": ".py",
   "mimetype": "text/x-python",
   "name": "python",
   "nbconvert_exporter": "python",
   "pygments_lexer": "ipython3",
   "version": "3.7.6"
  }
 },
 "nbformat": 4,
 "nbformat_minor": 4
}
